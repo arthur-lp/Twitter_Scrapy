{
  "nbformat": 4,
  "nbformat_minor": 0,
  "metadata": {
    "colab": {
      "name": "Twitter.ipynb",
      "provenance": [],
      "collapsed_sections": []
    },
    "kernelspec": {
      "name": "python3",
      "display_name": "Python 3"
    }
  },
  "cells": [
    {
      "cell_type": "code",
      "metadata": {
        "id": "MDzfNkMH2OAw",
        "colab_type": "code",
        "colab": {}
      },
      "source": [
        "import pandas as pd\n",
        "import tweepy\n",
        "\n",
        "# Preencha a seguir com as suas chaves de API\n",
        "consumer_key = 'SrPOepErG6NrAObppbIEauvQJ'\n",
        "consumer_secret = 'ckX0vQlF5vgVFawx6Xr3hGaF9kdDvc29x6I9rvMNZMpGBC4N2S'\n",
        "access_token = '137864852-HL8i0b0BvtphQLr4JgnFUZ0cuJd1xj7re5wsn4eo'\n",
        "access_token_secret = 'PV3WcLkFXAPWBdOozMMQ3HBlX5m2dDrACGNlnEedbEmao'"
      ],
      "execution_count": null,
      "outputs": []
    },
    {
      "cell_type": "markdown",
      "metadata": {
        "id": "IpmAwZkI28RQ",
        "colab_type": "text"
      },
      "source": [
        "# Validação de Tokens"
      ]
    },
    {
      "cell_type": "code",
      "metadata": {
        "id": "eUMBiVRt2XXn",
        "colab_type": "code",
        "colab": {}
      },
      "source": [
        "# Validação de tokens de acesso\n",
        "auth = tweepy.OAuthHandler(consumer_key, consumer_secret)\n",
        "auth.set_access_token(access_token, access_token_secret)\n",
        "api = tweepy.API(auth,wait_on_rate_limit=True)"
      ],
      "execution_count": null,
      "outputs": []
    },
    {
      "cell_type": "markdown",
      "metadata": {
        "id": "dQIHcNib3Gem",
        "colab_type": "text"
      },
      "source": [
        "# Implementação"
      ]
    },
    {
      "cell_type": "markdown",
      "metadata": {
        "id": "7OlA2nrV3eH6",
        "colab_type": "text"
      },
      "source": [
        "Pesquisa de string"
      ]
    },
    {
      "cell_type": "code",
      "metadata": {
        "id": "e3ME0-cJfaaH",
        "colab_type": "code",
        "colab": {}
      },
      "source": [
        "tweets = tweepy.Cursor(api.search,q=\"altura idade tamanho do pé\",\n",
        "                           lang=\"pt\", since=\"2020-01-01\").items()"
      ],
      "execution_count": null,
      "outputs": []
    },
    {
      "cell_type": "markdown",
      "metadata": {
        "colab_type": "text",
        "id": "Srs7MylNldar"
      },
      "source": [
        "Definir separações e caracteres a ignorar"
      ]
    },
    {
      "cell_type": "code",
      "metadata": {
        "colab_type": "code",
        "id": "OnzXSRxbldaw",
        "colab": {}
      },
      "source": [
        "split_token = ':-'\n",
        "split_lang  = ' ,/'\n",
        "ignore = '('\n",
        "\n",
        "data = {'autor':  [],\n",
        "        'altura': [],\n",
        "        'idade':  [], \n",
        "        }\n",
        "\n",
        "df = pd.DataFrame(data, columns = ['autor', 'altura', 'idade'])"
      ],
      "execution_count": null,
      "outputs": []
    },
    {
      "cell_type": "markdown",
      "metadata": {
        "id": "ciNz1jUvlhC5",
        "colab_type": "text"
      },
      "source": [
        "Extrair texto"
      ]
    },
    {
      "cell_type": "code",
      "metadata": {
        "id": "SRECgSwgBeGs",
        "colab_type": "code",
        "colab": {
          "base_uri": "https://localhost:8080/",
          "height": 1000
        },
        "outputId": "796b9b3e-d741-4456-f964-ec5b6cd725dc"
      },
      "source": [
        "for tweet in tweets:\n",
        "  \n",
        "  # Get text\n",
        "  ids = tweet.id\n",
        "  status = api.get_status(ids, tweet_mode=\"extended\")\n",
        "  fulltext = status.full_text\n",
        "\n",
        "  fulltext = fulltext.replace(\"-\",\":\")\n",
        "  fulltext = fulltext.replace(\";\",\":\")\n",
        "  fulltext = fulltext.replace(\"=\",\":\")\n",
        "  #print(fulltext)\n",
        "  lines = fulltext.split('\\n')\n",
        "  autor = []\n",
        "  altura = 0.00\n",
        "  idade = 0\n",
        "  for line in lines:\n",
        "    autor = tweet.author.screen_name\n",
        "    questions = \"null\"\n",
        "    if line.find(':') != -1:\n",
        "      answers = line.split(':')[-1]\n",
        "      questions = line.split(\":\")[0]\n",
        "    if questions == \"altura\":\n",
        "        altura = answers.replace(\",\",\".\")\n",
        "        altura = altura.replace(\" \", \"\")\n",
        "        try:\n",
        "          altura = altura[:4]\n",
        "          altura = float(altura)\n",
        "          #print(altura)\n",
        "        except:\n",
        "          altura = 0.00\n",
        "    if questions == \"idade\":\n",
        "        idade = answers.replace(\" \",\"\")\n",
        "        try:\n",
        "          idade = idade[:2]\n",
        "          idade = int(idade)\n",
        "          #print(idade)\n",
        "        except:\n",
        "          idade = 0\n",
        "        #print(idade)\n",
        "  print(altura,fevrth idade)\n",
        "  #df = df.append({'autor': autor ,'altura': altura, 'idade': idade}, ignore_index=True)"
      ],
      "execution_count": null,
      "outputs": [
        {
          "output_type": "stream",
          "text": [
            "0.0 0\n",
            "0.0 0\n",
            "0.0 0\n",
            "0.0 0\n",
            "0.0 0\n",
            "0.0 0\n",
            "0.0 0\n",
            "0.0 0\n",
            "0.0 0\n",
            "0.0 0\n",
            "0.0 0\n",
            "0.0 0\n",
            "0.0 0\n",
            "0.0 0\n",
            "0.0 0\n",
            "0.0 0\n",
            "0.0 0\n",
            "1.66 19\n",
            "1.7 20\n",
            "0.0 0\n",
            "0.0 0\n",
            "0.0 0\n",
            "0.0 0\n",
            "0.0 0\n",
            "1.62 14\n",
            "0.0 0\n",
            "1.6 17\n",
            "0.0 0\n",
            "1.66 15\n",
            "1.45 18\n",
            "0.0 0\n",
            "0.0 0\n",
            "0.0 0\n",
            "1.54 23\n",
            "1.6 19\n",
            "1.64 18\n",
            "1.6 18\n",
            "0.0 0\n",
            "0.0 0\n",
            "0.0 0\n",
            "0.0 0\n",
            "0.0 0\n",
            "0.0 0\n",
            "1.77 17\n",
            "0.0 0\n",
            "1.66 15\n",
            "1.7 16\n",
            "0.0 0\n",
            "0.0 0\n",
            "1.55 21\n",
            "1.58 16\n",
            "0.0 0\n",
            "0.0 0\n",
            "0.0 0\n",
            "0.0 0\n",
            "0.0 0\n",
            "0.0 0\n",
            "0.0 0\n",
            "0.0 0\n",
            "0.0 0\n",
            "0.0 0\n",
            "0.0 0\n",
            "0.0 0\n",
            "0.0 0\n",
            "0.0 0\n",
            "0.0 0\n",
            "0.0 0\n",
            "0.0 0\n",
            "0.0 0\n",
            "0.0 0\n",
            "0.0 0\n",
            "0.0 0\n",
            "0.0 0\n",
            "0.0 0\n",
            "0.0 0\n",
            "0.0 0\n",
            "0.0 0\n",
            "0.0 0\n",
            "0.0 0\n",
            "0.0 0\n",
            "0.0 0\n",
            "0.0 0\n",
            "0.0 0\n",
            "0.0 0\n",
            "0.0 0\n",
            "0.0 0\n",
            "0.0 0\n",
            "0.0 0\n",
            "0.0 0\n",
            "0.0 0\n",
            "0.0 0\n",
            "0.0 0\n",
            "0.0 0\n",
            "0.0 0\n",
            "0.0 0\n",
            "0.0 0\n",
            "0.0 0\n",
            "0.0 0\n",
            "0.0 0\n",
            "0.0 0\n",
            "0.0 0\n",
            "0.0 0\n",
            "0.0 0\n",
            "0.0 0\n",
            "0.0 0\n",
            "0.0 0\n",
            "0.0 0\n",
            "0.0 0\n",
            "0.0 0\n",
            "0.0 0\n",
            "0.0 0\n",
            "0.0 0\n",
            "0.0 0\n",
            "0.0 0\n",
            "0.0 0\n",
            "0.0 0\n",
            "0.0 0\n",
            "0.0 0\n",
            "0.0 0\n",
            "0.0 0\n",
            "0.0 0\n",
            "0.0 0\n",
            "0.0 0\n",
            "0.0 0\n",
            "0.0 0\n",
            "0.0 0\n",
            "0.0 0\n",
            "1.6 18\n",
            "0.0 0\n",
            "0.0 0\n",
            "0.0 0\n",
            "0.0 0\n",
            "0.0 0\n",
            "0.0 0\n",
            "0.0 0\n",
            "0.0 0\n",
            "0.0 19\n",
            "0.0 0\n",
            "0.0 0\n",
            "0.0 0\n",
            "0.0 0\n",
            "0.0 0\n",
            "1.58 20\n",
            "0.0 0\n",
            "0.0 0\n",
            "0.0 0\n",
            "0.0 0\n",
            "0.0 0\n",
            "0.0 0\n",
            "0.0 0\n",
            "1.83 16\n",
            "1.9 16\n",
            "1.77 15\n"
          ],
          "name": "stdout"
        }
      ]
    },
    {
      "cell_type": "markdown",
      "metadata": {
        "id": "17-tTlN23yqx",
        "colab_type": "text"
      },
      "source": [
        "Capturar respostas"
      ]
    },
    {
      "cell_type": "code",
      "metadata": {
        "id": "1PN8rLIf3oUF",
        "colab_type": "code",
        "colab": {
          "base_uri": "https://localhost:8080/",
          "height": 255
        },
        "outputId": "58c28a2a-085b-460c-bb17-58911b7253d0"
      },
      "source": [
        "print(df)\n",
        "  "
      ],
      "execution_count": null,
      "outputs": [
        {
          "output_type": "stream",
          "text": [
            "               autor altura idade\n",
            "0           pitchbxz   1.75    15\n",
            "1    StellaLuize1002   1.75    15\n",
            "2            rsmione   1.57    17\n",
            "3         dudsbaiano   1.69    16\n",
            "4        sharinganzx   1.75    15\n",
            "..               ...    ...   ...\n",
            "370       __barradas   1.56    23\n",
            "371      _rafaela_ap   1.56    23\n",
            "372     gabrielvosvo   1.56    23\n",
            "373      alesantanax   1.56    23\n",
            "374     sofia_reiiss   1.56    23\n",
            "\n",
            "[375 rows x 3 columns]\n"
          ],
          "name": "stdout"
        }
      ]
    },
    {
      "cell_type": "markdown",
      "metadata": {
        "id": "NTcme1Xn35ph",
        "colab_type": "text"
      },
      "source": [
        "Criar dicionário de respostas"
      ]
    },
    {
      "cell_type": "code",
      "metadata": {
        "id": "QwNf1s6W3_hD",
        "colab_type": "code",
        "colab": {}
      },
      "source": [
        "respostas = {1:[], 2:[], 3:[], 4:[], 5:[], 6:[]}"
      ],
      "execution_count": null,
      "outputs": []
    },
    {
      "cell_type": "markdown",
      "metadata": {
        "id": "gYKD8GOB4B29",
        "colab_type": "text"
      },
      "source": [
        "Capturar respostas"
      ]
    },
    {
      "cell_type": "code",
      "metadata": {
        "id": "_kNSeqOi4Ioy",
        "colab_type": "code",
        "colab": {
          "base_uri": "https://localhost:8080/",
          "height": 34
        },
        "outputId": "252890a0-f79a-4bdc-dbc0-d4797f1df252"
      },
      "source": [
        "\n"
      ],
      "execution_count": null,
      "outputs": [
        {
          "output_type": "stream",
          "text": [
            "0\n"
          ],
          "name": "stdout"
        }
      ]
    },
    {
      "cell_type": "code",
      "metadata": {
        "id": "iRcE8HHL4K0A",
        "colab_type": "code",
        "colab": {}
      },
      "source": [
        ""
      ],
      "execution_count": null,
      "outputs": []
    }
  ]
}